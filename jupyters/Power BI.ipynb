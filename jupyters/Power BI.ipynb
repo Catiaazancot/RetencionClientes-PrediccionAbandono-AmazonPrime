{
 "cells": [
  {
   "cell_type": "markdown",
   "id": "4883b965",
   "metadata": {},
   "source": [
    "# Informe de PowerBI"
   ]
  },
  {
   "cell_type": "markdown",
   "id": "e1b1a793",
   "metadata": {},
   "source": [
    "## Objetivo\n",
    "Crear un dashboard estratégico que permita visualizar los patrones detectados, extraer recomendaciones de negocio y proponer acciones concretas para mejorar la retención de clientes."
   ]
  },
  {
   "cell_type": "markdown",
   "id": "f135e2c9",
   "metadata": {},
   "source": [
    "## Desarrollo del dashboard\n",
    "#### 1. Carga e integración de datos\n",
    "- Conexión con base de datos PostgreSQL.\n",
    "- Carga de las tablas del modelo relacional\n",
    "#### 2. Validación y limpieza de datos en Power Query\n",
    "- Corrección de tipos de datos y asignación de roles (fechas, textos, numéricos).\n",
    "- Normalización y estandarización de campos\n",
    "#### 3. Modelado de datos\n",
    "- Se crearon relaciones de uno a varios entre tablas siguiendo un modelo **estrella**, facilitando el análisis cruzado.\n",
    "- Revisión y optimización del modelo para análisis eficientes.\n",
    "##### 4. Creación de tabla calendario personalizada\n",
    "- Se creó una tabla `Calendario` usando DAX, con campos como:\n",
    "  - Año, mes, día, día de la semana, número de mes, hora\n",
    "#### 5. Creación de medidas DAX personalizadas\n",
    "Se construyeron múltiples **medidas clave (KPIs)**, como:\n",
    "- Valor medio perdido por cliente\n",
    "- Abandono en los tres primeros meses\n",
    "- Tasa de abandono\n",
    "- Gasto perdido total\n",
    "- Clientes con plan familiar\n",
    "- Clientes con contrato mensual\n",
    "- % Clientes con descuento\n",
    "- Clientes activos\n",
    "- Clientes sin servicio adicional\n",
    "\n",
    "#### 6. Dashboards creados.\n",
    "\n",
    "**Página 1** y **página 2**: Análisis de segmentos y factores\n",
    "\n",
    "**Página 3**: Resumen ejecutivo\n",
    "- Modelo predictivo (R): Los factores más determinantes en el abandono.\n",
    "- Tabla resumen de patrones detectados, conclusiones y acciones de negocio recomendadas.\n",
    "\n",
    "#### 7. Storytelling visual aplicado\n",
    "- **Títulos narrativos** en cada gráfico.\n",
    "- Se aplicaron **atributos preatentivos** para llamar la atención visualmente en elementos importantes (colores, posición, tamaño, jerarquía).\n",
    "- Visualizaciones orientadas a la toma de decisiones estratégicas.\n",
    "- Interactividad mediante los marcadores de navegación de páginas.\n",
    "- Cohesión de marca a través de colores corporativos.\n",
    "\n",
    "#### 8. Documentación\n",
    "- Se documentaron todas las medidas DAX, transformaciones aplicadas en Power Query y relaciones del modelo de datos para facilitar la comprensión, el mantenimiento y futuras ampliaciones del dashboard."
   ]
  },
  {
   "cell_type": "markdown",
   "id": "22b03685",
   "metadata": {},
   "source": [
    "## Simulación de impacto: Retención de clientes y ahorro potencial"
   ]
  },
  {
   "cell_type": "markdown",
   "id": "a494c015",
   "metadata": {},
   "source": [
    "\n",
    "En esta sección hemos cuantificado el impacto que tendrían las acciones de negocio recomendadas sobre tres grupos críticos de clientes:\n",
    "\n",
    "- Clientes con contrato mensual\n",
    "\n",
    "- Clientes sin plan familiar\n",
    "\n",
    "- Clientes con 3 o más llamadas al soporte\n",
    "\n",
    "Para cada uno de estos segmentos, hemos calculado:\n",
    "\n",
    "- El número de clientes afectados actualmente\n",
    "\n",
    "- La tasa de abandono real\n",
    "\n",
    "- Una tasa de abandono mejorada si se aplica la acción recomendada\n",
    "\n",
    "- La cantidad de clientes que podríamos retener\n",
    "\n",
    "- El gasto mensual que se podría recuperar al evitar esas cancelaciones\n",
    "\n",
    "Todo ello se ha hecho usando medidas DAX en Power BI, basadas en tus datos reales. Esta simulación permite cuantificar con datos concretos el beneficio que tendría para la empresa actuar sobre los factores que más impulsan el abandono."
   ]
  },
  {
   "cell_type": "markdown",
   "id": "88890541",
   "metadata": {},
   "source": [
    "| Factor abordado        | Clientes afectados | Tasa actual de churn | Tasa esperada tras la acción | Clientes que podríamos retener |\n",
    "| ---------------------- | ------------------ | -------------------- | ---------------------------- | ------------------------------ |\n",
    "| Contrato mensual       | 3.412              | 46.3%                | 20%                          | 897                            |\n",
    "| Sin plan familiar      | 5.167              | 33%                  | 20%                          | 664                            |\n",
    "| 3+ llamadas al soporte | 880                | 100%                 | 70%                          | 226                            |\n"
   ]
  },
  {
   "cell_type": "markdown",
   "id": "9e204256",
   "metadata": {},
   "source": [
    "La implementación de planes familiares, contratos de larga duración y una mejor atención temprana al cliente podrían evitar la pérdida de más de 1.700 clientes y permitir a la empresa recuperar miles de euros en ingresos mensuales. Esto convierte los datos en decisiones y demuestra cómo el análisis puede traducirse en rentabilidad."
   ]
  },
  {
   "cell_type": "markdown",
   "id": "584a97aa",
   "metadata": {},
   "source": [
    "### Conclusión\n",
    "El dashboard desarrollado permite comprender los factores que más influyen en el abandono de clientes y ofrece una herramienta visual poderosa para tomar decisiones basadas en datos. A través de medidas, segmentación, storytelling visual y modelos predictivos, se ofrecen recomendaciones concretas para mejorar la retención y fidelización de los usuarios de Amazon Prime."
   ]
  }
 ],
 "metadata": {
  "language_info": {
   "name": "python"
  }
 },
 "nbformat": 4,
 "nbformat_minor": 5
}
