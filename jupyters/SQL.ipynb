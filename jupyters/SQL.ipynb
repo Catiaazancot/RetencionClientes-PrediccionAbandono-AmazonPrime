{
 "cells": [
  {
   "cell_type": "markdown",
   "id": "7b1ab9c2",
   "metadata": {},
   "source": [
    "# Creación y carga de base de datos en PostgreSQL desde Python"
   ]
  },
  {
   "cell_type": "code",
   "execution_count": 1,
   "id": "8986c474",
   "metadata": {},
   "outputs": [],
   "source": [
    "# Importar paquetes\n",
    "import pandas as pd\n",
    "import psycopg2"
   ]
  },
  {
   "cell_type": "code",
   "execution_count": 2,
   "id": "f77de1aa",
   "metadata": {},
   "outputs": [],
   "source": [
    "df = pd.read_excel(\"../data/datos_churn_limpios.xlsx\") # Carga de datos"
   ]
  },
  {
   "cell_type": "markdown",
   "id": "6cf4e5ff",
   "metadata": {},
   "source": [
    "## 1. Crear la base de datos en PostgreSQL "
   ]
  },
  {
   "cell_type": "code",
   "execution_count": null,
   "id": "c98af6cb",
   "metadata": {},
   "outputs": [],
   "source": [
    "# Una vez diseñado el modelo relacional, crear el script SQL para crear las tablas de este en postgreSQL, validando que coincidan los tipos de datos con el dataset \n",
    "'''\n",
    "CREATE TABLE clientes (\n",
    "    customer_id TEXT PRIMARY KEY,\n",
    "    gender TEXT,\n",
    "    age INT,\n",
    "    under_30 TEXT,\n",
    "    senior_65 TEXT,\n",
    "    group_name TEXT,\n",
    "    state_name TEXT,\n",
    "    customer_segment TEXT\n",
    ");\n",
    "\n",
    "CREATE TABLE contratos (\n",
    "    id_contrato SERIAL PRIMARY KEY,\n",
    "    customer_id TEXT REFERENCES clientes(customer_id),\n",
    "    contract_type TEXT,\n",
    "    payment_method TEXT,\n",
    "    applied_discount TEXT,\n",
    "    unlimited_data_plan TEXT,\n",
    "    device_protection_online_backup TEXT,\n",
    "    number_of_customers_in_group INT\n",
    ");\n",
    "\n",
    "CREATE TABLE consumo (\n",
    "    id_consumo SERIAL PRIMARY KEY,\n",
    "    customer_id TEXT REFERENCES clientes(customer_id),\n",
    "    avg_monthly_gb_download INT,\n",
    "    extra_data_charges INT,\n",
    "    monthly_charge INT,\n",
    "    total_charges FLOAT,\n",
    "    average_monthly_expenses FLOAT\n",
    ");\n",
    "\n",
    "CREATE TABLE soporte (\n",
    "    id_soporte SERIAL PRIMARY KEY,\n",
    "    customer_id TEXT REFERENCES clientes(customer_id),\n",
    "    customer_service_calls INT,\n",
    "    number_of_complaints_or_support INT,\n",
    "    preferred_contact_method TEXT\n",
    ");\n",
    "\n",
    "CREATE TABLE historial (\n",
    "    id_historial SERIAL PRIMARY KEY,\n",
    "    customer_id TEXT REFERENCES clientes(customer_id),\n",
    "    account_length_in_months INT,\n",
    "    customer_tenure_in_months INT,\n",
    "    contact_date TIMESTAMP,\n",
    "    last_transaction_date TIMESTAMP,\n",
    "    year_name INT,\n",
    "    month_name INT,\n",
    "    quarter INT\n",
    ");\n",
    "\n",
    "CREATE TABLE churn (\n",
    "    id_churn SERIAL PRIMARY KEY,\n",
    "    customer_id TEXT REFERENCES clientes(customer_id),\n",
    "    churn_label TEXT,\n",
    "    churn_category TEXT,\n",
    "    churn_reason TEXT\n",
    ");\n",
    "'''"
   ]
  },
  {
   "cell_type": "markdown",
   "id": "ac8101da",
   "metadata": {},
   "source": [
    "## 2. Importar los datos desde Python a PostgreSQL"
   ]
  },
  {
   "cell_type": "markdown",
   "id": "2cc2bafd",
   "metadata": {},
   "source": [
    "#### Dividir el dataframe original en dataframes por tabla según el modelo relacional creado"
   ]
  },
  {
   "cell_type": "code",
   "execution_count": 4,
   "id": "1a719065",
   "metadata": {},
   "outputs": [
    {
     "data": {
      "text/plain": [
       "((6687, 8), (6690, 7), (6690, 6), (6690, 4), (6690, 8), (6690, 4))"
      ]
     },
     "execution_count": 4,
     "metadata": {},
     "output_type": "execute_result"
    }
   ],
   "source": [
    "# Renombrar columnas problemáticas para que coincidan con PostgreSQL\n",
    "df = df.rename(columns={\n",
    "    'group': 'group_name',\n",
    "    'year': 'year_name',\n",
    "    'state': 'state_name',\n",
    "    'month': 'month_name',\n",
    "    'device_protection_&_online_backup':'device_protection_online_backup'\n",
    "})\n",
    "\n",
    "# Dividir el dataframe en sub-dataframes según el modelo relacional\n",
    "\n",
    "# Tabla: clientes\n",
    "df_clientes = df[[\n",
    "    'customer_id', 'gender', 'age', 'under_30', 'senior_65',\n",
    "    'group_name', 'state_name', 'customer_segment'\n",
    "]].drop_duplicates()\n",
    "\n",
    "# Tabla: contratos\n",
    "df_contratos = df[[\n",
    "    'customer_id', 'contract_type', 'payment_method',\n",
    "    'applied_discount', 'unlimited_data_plan',\n",
    "    'device_protection_online_backup', 'number_of_customers_in_group'\n",
    "]]\n",
    "\n",
    "# Tabla: consumo\n",
    "df_consumo = df[[\n",
    "    'customer_id', 'avg_monthly_gb_download', 'extra_data_charges',\n",
    "    'monthly_charge', 'total_charges', 'average_monthly_expenses'\n",
    "]]\n",
    "\n",
    "# Tabla: soporte\n",
    "df_soporte = df[[\n",
    "    'customer_id', 'customer_service_calls',\n",
    "    'number_of_complaints_or_support', 'preferred_contact_method'\n",
    "]]\n",
    "\n",
    "# Tabla: historial\n",
    "df_historial = df[[\n",
    "    'customer_id', 'account_length_(in_months)',\n",
    "    'customer_tenure_(in_months)', 'contact_date',\n",
    "    'last_transaction_date', 'year_name', 'month_name', 'quarter'\n",
    "]]\n",
    "# Renombrar columnas para que coincidan con las de PostgreSQL\n",
    "df_historial.columns = [\n",
    "    'customer_id', 'account_length_in_months',\n",
    "    'customer_tenure_in_months', 'contact_date',\n",
    "    'last_transaction_date', 'year_name', 'month_name', 'quarter'\n",
    "]\n",
    "\n",
    "# Tabla: churn\n",
    "df_churn = df[[\n",
    "    'customer_id', 'churn_label', 'churn_category', 'churn_reason'\n",
    "]]\n",
    "\n",
    "# Mostrar shapes para confirmar\n",
    "(df_clientes.shape, df_contratos.shape, df_consumo.shape, df_soporte.shape,\n",
    " df_historial.shape, df_churn.shape)\n"
   ]
  },
  {
   "cell_type": "markdown",
   "id": "acd52f80",
   "metadata": {},
   "source": [
    "## Insertar todas las tablas a PostgreSQL"
   ]
  },
  {
   "cell_type": "markdown",
   "id": "2c7fac70",
   "metadata": {},
   "source": [
    "### 1. Conexión con psycopg2"
   ]
  },
  {
   "cell_type": "code",
   "execution_count": 5,
   "id": "5aa34a52",
   "metadata": {},
   "outputs": [],
   "source": [
    "# Conexión a PostgreSQL\n",
    "conn = psycopg2.connect(\n",
    "    host=\"localhost\",\n",
    "    dbname=\"proyecto_churn_amazon\",\n",
    "    user=\"postgres\",\n",
    "    password=\"admin\",\n",
    "    port=5432\n",
    ")"
   ]
  },
  {
   "cell_type": "markdown",
   "id": "c128b885",
   "metadata": {},
   "source": [
    "### 2. Función para insertar un DataFrame en una tabla"
   ]
  },
  {
   "cell_type": "code",
   "execution_count": 6,
   "id": "f22cd37c",
   "metadata": {},
   "outputs": [],
   "source": [
    "def insertar_dataframe(df, tabla_sql, columnas_sql, conn):\n",
    "    cursor = conn.cursor()\n",
    "    for _, fila in df.iterrows():\n",
    "        valores = tuple(fila[col] for col in columnas_sql)\n",
    "        placeholders = ','.join(['%s'] * len(valores))\n",
    "        query = f\"INSERT INTO {tabla_sql} ({','.join(columnas_sql)}) VALUES ({placeholders})\"\n",
    "        cursor.execute(query, valores)\n",
    "    conn.commit()\n",
    "    print(f\"✅ Datos insertados en {tabla_sql}\")"
   ]
  },
  {
   "cell_type": "markdown",
   "id": "e5438b00",
   "metadata": {},
   "source": [
    "### 3. Insertar los datos en cada tabla de PostgreSQL"
   ]
  },
  {
   "cell_type": "code",
   "execution_count": null,
   "id": "ce546dac",
   "metadata": {},
   "outputs": [],
   "source": [
    "insertar_dataframe(df_clientes, \"clientes\", [\n",
    "    \"customer_id\", \"gender\", \"age\", \"under_30\", \"senior_65\",\n",
    "    \"group_name\", \"state_name\", \"customer_segment\"\n",
    "], conn)\n",
    "\n",
    "insertar_dataframe(df_contratos, \"contratos\", [\n",
    "    \"customer_id\", \"contract_type\", \"payment_method\",\n",
    "    \"applied_discount\", \"unlimited_data_plan\",\n",
    "    \"device_protection_online_backup\", \"number_of_customers_in_group\"\n",
    "], conn)\n",
    "\n",
    "insertar_dataframe(df_consumo, \"consumo\", [\n",
    "    \"customer_id\", \"avg_monthly_gb_download\", \"extra_data_charges\",\n",
    "    \"monthly_charge\", \"total_charges\", \"average_monthly_expenses\"\n",
    "], conn)\n",
    "\n",
    "insertar_dataframe(df_soporte, \"soporte\", [\n",
    "    \"customer_id\", \"customer_service_calls\",\n",
    "    \"number_of_complaints_or_support\", \"preferred_contact_method\"\n",
    "], conn)\n",
    "\n",
    "insertar_dataframe(df_historial, \"historial\", [\n",
    "    \"customer_id\", \"account_length_in_months\",\n",
    "    \"customer_tenure_in_months\", \"contact_date\",\n",
    "    \"last_transaction_date\", \"year_name\", \"month_name\", \"quarter\"\n",
    "], conn)\n",
    "\n",
    "insertar_dataframe(df_churn, \"churn\", [\n",
    "    \"customer_id\", \"churn_label\", \"churn_category\", \"churn_reason\"\n",
    "], conn)\n",
    "\n",
    "# Cerrar la conexión\n",
    "conn.close()"
   ]
  },
  {
   "cell_type": "markdown",
   "id": "bd8514be",
   "metadata": {},
   "source": [
    "### Documentación: Integración del proyecto con PostgreSQL (Modelo Relacional + Python + SQL)\n",
    "\n",
    "Para profesionalizar aún más el proyecto y demostrar dominio técnico, se ha construido una **base de datos relacional en PostgreSQL** a partir del dataset de atención al cliente. A continuación se detallan los pasos realizados:\n",
    "\n",
    "---\n",
    "\n",
    "#### 1. Diseño del modelo relacional\n",
    "\n",
    "Se dividió el dataset original en seis tablas relacionadas (`clientes`,`contratos`,`consumo`,`historial`,`soporte`,`churn`)\n",
    "\n",
    "Se definieron **claves primarias** y **foráneas** para mantener la integridad referencial entre las tablas.\n",
    "\n",
    "---\n",
    "\n",
    "#### 2. Creación de las tablas en PostgreSQL\n",
    "\n",
    "Desde pgAdmin se creó una nueva base de datos llamada `proyecto_churn_amazon`, y se ejecutaron scripts SQL para crear las tablas con las estructuras correctas, incluyendo las claves necesarias para modelar bien las relaciones entre entidades.\n",
    "\n",
    "---\n",
    "\n",
    "#### 3. Preparación de los datos en Python\n",
    "\n",
    "- Se cargó el dataset limpio\n",
    "- Se separaron los datos en 6 DataFrames (`clientes`,`contratos`,`consumo`,`historial`,`soporte`,`churn`)\n",
    "- Se asignaron identificadores únicos (`customer_id`, `id_contrato`, `id_consumo`,`id_historial`,`id_soporte`,`id_churn`)\n",
    "- Se renombraron las columnas para que coincidan con las definidas en SQL\n",
    "- Se dejó lista cada tabla para ser insertada correctamente en la base de datos\n",
    "\n",
    "---\n",
    "\n",
    "#### 4. Conexión a PostgreSQL desde Python\n",
    "\n",
    "Se utilizó la librería `psycopg2` para conectarse a la base y realizar inserciones:\n",
    "\n",
    "- Se definió una función general `insertar_dataframe()` para insertar cualquier tabla\n",
    "- Se insertaron los datos en el siguiente orden: (`clientes`,`contratos`,`consumo`,`soporte`,`historial`,`churn`)\n",
    "- Se verificó que los datos quedaron cargados correctamente\n",
    "\n",
    "---\n",
    "\n",
    "#### Resultado\n",
    "\n",
    "Ya está disponible en PostgreSQL una base de datos relacional realista, funcional y lista para:\n",
    "\n",
    "- Realizar **consultas SQL** para obtener insights\n",
    "- Ser utilizada desde Python con `psycopg2` o `SQLAlchemy`\n",
    "- Conectarla desde Power BI para crear dashboards optimizados y escalables\n",
    "\n",
    "Este trabajo demuestra no solo habilidades en análisis de datos, sino también en **modelado de bases de datos**, **ETL básico**, **SQL relacional** y buenas prácticas para entornos de producción."
   ]
  },
  {
   "cell_type": "markdown",
   "id": "8a88bccf",
   "metadata": {},
   "source": [
    "---------\n",
    "# Consultas SQL ejecutadas desde Python orientadas al análisis del negocio\n",
    "\n",
    "En esta sección se utilizarán **consultas SQL** sobre la base de datos relacional creada en PostgreSQL para:\n",
    "\n",
    "- Reproducir los **insights clave del análisis exploratorio** realizado previamente en Python\n",
    "- Demostrar **dominio del lenguaje SQL** para responder preguntas reales del negocio\n",
    "- Validar que la estructura relacional permite extraer información útil de forma eficiente\n",
    "- Potenciar el uso de SQL como herramienta fundamental del analista de datos\n",
    "\n",
    "Las consultas están orientadas a temas como:\n",
    "\n",
    "- Identificación de cuellos de botella por agente o canal\n",
    "- Análisis de tiempos de respuesta y satisfacción\n",
    "- Evaluación del servicio ofrecido a clientes VIP\n",
    "- Control de tickets de alta prioridad y su resolución\n",
    "- Distribución de carga horaria y por categoría\n",
    "\n",
    "Cada consulta responderá a una pregunta de negocio específica, y permitirá mostrar cómo se puede utilizar SQL para obtener valor directamente desde la base de datos, sin necesidad de otras herramientas."
   ]
  },
  {
   "cell_type": "code",
   "execution_count": null,
   "id": "fb19b60a",
   "metadata": {},
   "outputs": [],
   "source": [
    "# Conexión a PostgreSQL\n",
    "conn = psycopg2.connect(\n",
    "    host=\"localhost\",\n",
    "    dbname=\"proyecto_churn_amazon\",\n",
    "    user=\"postgres\",\n",
    "    password=\"admin\",\n",
    "    port=5432\n",
    ")\n",
    "cursor = conn.cursor()\n",
    "# Crear una función para ejecutar consultas SQL\n",
    "def ejecutar_consulta(sql):\n",
    "    return pd.read_sql_query(sql, conn)"
   ]
  },
  {
   "cell_type": "markdown",
   "id": "bfe7ccee",
   "metadata": {},
   "source": [
    "Consulta 1: ¿Los clientes con descuentos aplicados abandonan menos que los que no tienen descuento?"
   ]
  },
  {
   "cell_type": "code",
   "execution_count": null,
   "id": "c9b5d49b",
   "metadata": {},
   "outputs": [],
   "source": [
    "sql = \"\"\"\n",
    "SELECT \n",
    "  applied_discount,\n",
    "  ROUND(100.0 * COUNT(*) FILTER (WHERE ch.churn_label = 'yes') / COUNT(*), 2) AS tasa_churn\n",
    "FROM contratos c\n",
    "JOIN churn ch USING (customer_id)\n",
    "GROUP BY applied_discount;\n",
    "\"\"\"\n",
    "ejecutar_consulta(sql)\n",
    "# Objetivo:  Evaluar si las promociones o descuentos están cumpliendo su objetivo de fidelizar a los clientes, o si se está perdiendo dinero en estrategias que no reducen el abandono."
   ]
  },
  {
   "cell_type": "markdown",
   "id": "da81d9e7",
   "metadata": {},
   "source": [
    "Consulta 2: ¿Cuál es la tasa de churn según el tipo de contrato?"
   ]
  },
  {
   "cell_type": "code",
   "execution_count": null,
   "id": "4209c753",
   "metadata": {},
   "outputs": [],
   "source": [
    "sql = \"\"\"\n",
    "SELECT \n",
    "  c.contract_type,\n",
    "  ROUND(100.0 * COUNT(*) FILTER (WHERE ch.churn_label = 'yes') / COUNT(*), 2) AS tasa_churn\n",
    "FROM contratos c\n",
    "JOIN churn ch USING (customer_id)\n",
    "GROUP BY c.contract_type;\n",
    "\n",
    "\"\"\"\n",
    "ejecutar_consulta(sql)\n",
    "# Objetivo: Identificar si los contratos mensuales tienen mayor abandono que los de largo plazo."
   ]
  },
  {
   "cell_type": "markdown",
   "id": "7611e80e",
   "metadata": {},
   "source": [
    "Consulta 3: ¿Los clientes con plan familiar abandonan menos que los individuales?"
   ]
  },
  {
   "cell_type": "code",
   "execution_count": null,
   "id": "9909cf3b",
   "metadata": {},
   "outputs": [],
   "source": [
    "sql = \"\"\"\n",
    "SELECT \n",
    "  number_of_customers_in_group,\n",
    "  ROUND(100.0 * COUNT(*) FILTER (WHERE ch.churn_label = 'yes') / COUNT(*), 2) AS tasa_churn\n",
    "FROM contratos c\n",
    "JOIN churn ch USING (customer_id)\n",
    "GROUP BY number_of_customers_in_group\n",
    "ORDER BY number_of_customers_in_group;\n",
    "\"\"\"\n",
    "ejecutar_consulta(sql)\n",
    "# Objetivo: Evaluar si los planes compartidos ayudan a reducir el churn."
   ]
  },
  {
   "cell_type": "markdown",
   "id": "b544e2a4",
   "metadata": {},
   "source": [
    "Consulta 4: ¿Qué tasa de churn presentan los clientes menores de 30 años frente a los mayores de 65?"
   ]
  },
  {
   "cell_type": "code",
   "execution_count": null,
   "id": "c932baa4",
   "metadata": {},
   "outputs": [],
   "source": [
    "sql = \"\"\"\n",
    "SELECT \n",
    "  cl.under_30,\n",
    "  cl.senior_65,\n",
    "  ROUND(100.0 * COUNT(*) FILTER (WHERE ch.churn_label = 'yes') / COUNT(*), 2) AS tasa_churn\n",
    "FROM clientes cl\n",
    "JOIN churn ch USING (customer_id)\n",
    "GROUP BY cl.under_30, cl.senior_65;\n",
    "\"\"\"\n",
    "ejecutar_consulta(sql)\n",
    "# Objetivo: Comparar la fidelidad generacional de los clientes."
   ]
  },
  {
   "cell_type": "markdown",
   "id": "541a0841",
   "metadata": {},
   "source": [
    "Consulta 5:  ¿Qué impacto tiene el número de llamadas al soporte sobre el churn?"
   ]
  },
  {
   "cell_type": "code",
   "execution_count": null,
   "id": "806d9be7",
   "metadata": {},
   "outputs": [],
   "source": [
    "sql = \"\"\"\n",
    "SELECT \n",
    "  customer_service_calls,\n",
    "  ROUND(100.0 * COUNT(*) FILTER (WHERE ch.churn_label = 'yes') / COUNT(*), 2) AS tasa_churn\n",
    "FROM soporte s\n",
    "JOIN churn ch USING (customer_id)\n",
    "GROUP BY customer_service_calls\n",
    "ORDER BY customer_service_calls;\n",
    "\"\"\"\n",
    "ejecutar_consulta(sql)\n",
    "# Objetivo: Evaluar si múltiples llamadas predicen abandono por mal servicio."
   ]
  },
  {
   "cell_type": "markdown",
   "id": "1ce54858",
   "metadata": {},
   "source": [
    "Consulta 6:  ¿Cómo varía el churn según si el cliente tiene o no un plan de datos ilimitado?"
   ]
  },
  {
   "cell_type": "code",
   "execution_count": null,
   "id": "bc0a794a",
   "metadata": {},
   "outputs": [],
   "source": [
    "sql = \"\"\"\n",
    "SELECT \n",
    "  unlimited_data_plan,\n",
    "  ROUND(100.0 * COUNT(*) FILTER (WHERE ch.churn_label = 'yes') / COUNT(*), 2) AS tasa_churn\n",
    "FROM contratos c\n",
    "JOIN churn ch USING (customer_id)\n",
    "GROUP BY unlimited_data_plan;\n",
    "\"\"\"\n",
    "ejecutar_consulta(sql)\n",
    "# Objetivo: Analizar si tener datos ilimitados influye realmente en la retención."
   ]
  },
  {
   "cell_type": "markdown",
   "id": "8f83f346",
   "metadata": {},
   "source": [
    "Consulta 7:  ¿Los clientes con protección de dispositivos y backup abandonan menos?"
   ]
  },
  {
   "cell_type": "code",
   "execution_count": null,
   "id": "62059c26",
   "metadata": {},
   "outputs": [],
   "source": [
    "sql = \"\"\"\n",
    "SELECT \n",
    "  device_protection_and_backup,\n",
    "  ROUND(100.0 * COUNT(*) FILTER (WHERE ch.churn_label = 'yes') / COUNT(*), 2) AS tasa_churn\n",
    "FROM contratos c\n",
    "JOIN churn ch USING (customer_id)\n",
    "GROUP BY device_protection_and_backup;\n",
    "\"\"\"\n",
    "ejecutar_consulta(sql)\n",
    "# Objetivo:  Validar si los servicios extra aumentan la lealtad."
   ]
  },
  {
   "cell_type": "markdown",
   "id": "57ce6d09",
   "metadata": {},
   "source": [
    "Consulta 8: ¿Cuál es la tasa de churn según el método de pago?"
   ]
  },
  {
   "cell_type": "code",
   "execution_count": null,
   "id": "a125a493",
   "metadata": {},
   "outputs": [],
   "source": [
    "sql = \"\"\"\n",
    "SELECT \n",
    "  payment_method,\n",
    "  ROUND(100.0 * COUNT(*) FILTER (WHERE ch.churn_label = 'yes') / COUNT(*), 2) AS tasa_churn\n",
    "FROM contratos c\n",
    "JOIN churn ch USING (customer_id)\n",
    "GROUP BY payment_method;\n",
    "\"\"\"\n",
    "ejecutar_consulta(sql)\n",
    "# Objetivo: Detectar si los pagos manuales generan más abandono que los automáticos."
   ]
  },
  {
   "cell_type": "markdown",
   "id": "1603826f",
   "metadata": {},
   "source": [
    "Consulta 9: ¿Cuál es la tasa de churn en función del tiempo que lleva el cliente en la empresa?"
   ]
  },
  {
   "cell_type": "code",
   "execution_count": null,
   "id": "b15d26f5",
   "metadata": {},
   "outputs": [],
   "source": [
    "sql = \"\"\"\n",
    "SELECT \n",
    "  customer_tenure_in_months,\n",
    "  ROUND(100.0 * COUNT(*) FILTER (WHERE ch.churn_label = 'yes') / COUNT(*), 2) AS tasa_churn\n",
    "FROM historial h\n",
    "JOIN churn ch USING (customer_id)\n",
    "GROUP BY customer_tenure_in_months\n",
    "ORDER BY customer_tenure_in_months;\n",
    "\"\"\"\n",
    "ejecutar_consulta(sql)\n",
    "# Objetivo: Ver si los clientes nuevos abandonan más que los de larga duración."
   ]
  },
  {
   "cell_type": "markdown",
   "id": "e0ee2f6e",
   "metadata": {},
   "source": [
    "Consulta 10: ¿Qué razones de abandono son más frecuentes entre los clientes que han hecho múltiples contactos con soporte?"
   ]
  },
  {
   "cell_type": "code",
   "execution_count": null,
   "id": "c518d24e",
   "metadata": {},
   "outputs": [],
   "source": [
    "sql = \"\"\"\n",
    "SELECT \n",
    "  ch.churn_reason,\n",
    "  COUNT(*) AS num_clientes\n",
    "FROM soporte s\n",
    "JOIN churn ch USING (customer_id)\n",
    "WHERE s.number_of_complaints_or_support >= 3\n",
    "  AND ch.churn_label = 'yes'\n",
    "GROUP BY ch.churn_reason\n",
    "ORDER BY num_clientes DESC;\n",
    "\"\"\"\n",
    "ejecutar_consulta(sql)\n",
    "# Objetivo: Conocer las causas de abandono más comunes tras experiencias negativas con el soporte."
   ]
  }
 ],
 "metadata": {
  "kernelspec": {
   "display_name": "Python 3",
   "language": "python",
   "name": "python3"
  },
  "language_info": {
   "codemirror_mode": {
    "name": "ipython",
    "version": 3
   },
   "file_extension": ".py",
   "mimetype": "text/x-python",
   "name": "python",
   "nbconvert_exporter": "python",
   "pygments_lexer": "ipython3",
   "version": "3.12.2"
  }
 },
 "nbformat": 4,
 "nbformat_minor": 5
}
