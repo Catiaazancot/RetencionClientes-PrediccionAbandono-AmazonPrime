{
 "cells": [
  {
   "cell_type": "markdown",
   "metadata": {},
   "source": [
    "## Análisis y gestión de nulos de las columnas categóricas"
   ]
  },
  {
   "cell_type": "code",
   "execution_count": 3,
   "metadata": {},
   "outputs": [],
   "source": [
    "# Importaciones de paquetes\n",
    "import pandas as pd\n",
    "pd.set_option('display.max_columns', None)\n",
    "import numpy as np\n",
    "# Importaciones de unidades de soporte\n",
    "import sys\n",
    "sys.path.append(\"..\")\n",
    "from src import sp_nulos_cat as sp"
   ]
  },
  {
   "cell_type": "code",
   "execution_count": 4,
   "metadata": {},
   "outputs": [],
   "source": [
    "# Leer el archivo\n",
    "df_limpio = pd.read_excel(\"../data/datos_churn_limpios.xlsx\")"
   ]
  },
  {
   "cell_type": "markdown",
   "metadata": {},
   "source": [
    "### Análisis columnas categóricas"
   ]
  },
  {
   "cell_type": "code",
   "execution_count": null,
   "metadata": {},
   "outputs": [],
   "source": [
    "# Observación general de nulos\n",
    "sp.calcular_nulos(df_limpio)"
   ]
  },
  {
   "cell_type": "code",
   "execution_count": null,
   "metadata": {},
   "outputs": [],
   "source": [
    "# Análisis general de las columnas categóricas\n",
    "sp.analisis_general_cat(df_limpio)"
   ]
  },
  {
   "cell_type": "code",
   "execution_count": null,
   "metadata": {},
   "outputs": [],
   "source": [
    "# Graficar columnas categoricas\n",
    "sp.subplot_col_cat(df_limpio)"
   ]
  },
  {
   "cell_type": "markdown",
   "metadata": {},
   "source": [
    "## Gestión de nulos de las columnas categóricas"
   ]
  },
  {
   "cell_type": "code",
   "execution_count": 8,
   "metadata": {},
   "outputs": [],
   "source": [
    "# Crear un dataframe solo con las columnas categóricas\n",
    "df_cat = df_limpio[df_limpio.select_dtypes(include='O').columns]"
   ]
  },
  {
   "cell_type": "code",
   "execution_count": null,
   "metadata": {},
   "outputs": [],
   "source": [
    "# Observar los nulos de las columnas categóricas\n",
    "sp.calcular_nulos(df_cat)"
   ]
  },
  {
   "cell_type": "markdown",
   "metadata": {},
   "source": [
    "Identificamos tres columnas categóricas con valores nulos: **`payment_method`**  , **`churn_category`**  , **`churn_reason`** "
   ]
  },
  {
   "cell_type": "code",
   "execution_count": null,
   "metadata": {},
   "outputs": [],
   "source": [
    "# Comprobar si alguna de estas columnas tiene un valor predominante, en ese caso rellenar los nulos con este.\n",
    "sp.analisis_general_cat(df_cat)"
   ]
  },
  {
   "cell_type": "markdown",
   "metadata": {},
   "source": [
    "En el caso de **`churn_category` y `churn_reason`**, aproximadamente el **74% de los valores están vacíos**. Dado que este porcentaje es muy alto, no tiene sentido rellenarlos con otra categoría, ya que podríamos introducir sesgos o información incorrecta.  \n",
    "\n",
    "Por otro lado, **`payment_method`** tiene pocos valores nulos, pero no existe un método de pago predominante que podamos usar para rellenarlos sin afectar la integridad de los datos.  \n",
    "\n",
    "Por esta razón, hemos decidido reemplazar los valores nulos en estas columnas con `\"unknown\"`, para mantener la consistencia sin distorsionar la información existente.  "
   ]
  },
  {
   "cell_type": "code",
   "execution_count": null,
   "metadata": {},
   "outputs": [],
   "source": [
    "# Reemplazar valores nulos en columnas categóricas con \"unknown\"\n",
    "df_cat = df_cat.fillna('unknown')\n",
    "df_limpio[df_limpio.select_dtypes(include='O').columns] = df_cat"
   ]
  },
  {
   "cell_type": "code",
   "execution_count": null,
   "metadata": {},
   "outputs": [],
   "source": [
    "# Verificar si quedan nulos en columnas categóricas después del reemplazo\n",
    "sp.calcular_nulos(df_limpio)"
   ]
  },
  {
   "cell_type": "code",
   "execution_count": 13,
   "metadata": {},
   "outputs": [],
   "source": [
    "# Guardar el archivo\n",
    "df_limpio.to_excel('../data/datos_churn_limpios.xlsx', index=False)"
   ]
  }
 ],
 "metadata": {
  "kernelspec": {
   "display_name": "Python 3",
   "language": "python",
   "name": "python3"
  },
  "language_info": {
   "codemirror_mode": {
    "name": "ipython",
    "version": 3
   },
   "file_extension": ".py",
   "mimetype": "text/x-python",
   "name": "python",
   "nbconvert_exporter": "python",
   "pygments_lexer": "ipython3",
   "version": "3.12.2"
  }
 },
 "nbformat": 4,
 "nbformat_minor": 2
}
