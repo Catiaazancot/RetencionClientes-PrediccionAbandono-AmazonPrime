{
 "cells": [
  {
   "cell_type": "markdown",
   "metadata": {},
   "source": [
    "### Análisis preliminar del conjunto de datos"
   ]
  },
  {
   "cell_type": "code",
   "execution_count": 11,
   "metadata": {},
   "outputs": [],
   "source": [
    "# Importaciones\n",
    "import pandas as pd\n",
    "pd.set_option('display.max_columns', None)\n",
    "import numpy as np\n",
    "import sys\n",
    "sys.path.append(\"..\")\n",
    "from src import sp_eda_limpieza as sp"
   ]
  },
  {
   "cell_type": "code",
   "execution_count": 2,
   "metadata": {},
   "outputs": [],
   "source": [
    "# Leer el archivo\n",
    "df_raw = pd.read_excel(\"../data/amazon_churn_datosbrutos.xlsx\")"
   ]
  },
  {
   "cell_type": "code",
   "execution_count": 3,
   "metadata": {},
   "outputs": [],
   "source": [
    "# Hacer una copia del dataframe con el que trabajar\n",
    "df = df_raw.copy()"
   ]
  },
  {
   "cell_type": "code",
   "execution_count": null,
   "metadata": {},
   "outputs": [],
   "source": [
    "# Hacer un análisis exploratorio de los datos \n",
    "sp.eda_preliminar(df)"
   ]
  },
  {
   "cell_type": "markdown",
   "metadata": {},
   "source": [
    "### Normalización, estandarización y limpieza de datos"
   ]
  },
  {
   "cell_type": "code",
   "execution_count": 6,
   "metadata": {},
   "outputs": [],
   "source": [
    "df.columns = df.columns.str.replace(\" \",\"_\").str.lower() # Pasar los nombres de las columnas a minúsculas y sin espacios\n",
    "for col in df.select_dtypes(include='O').columns: # Pasar los nombres de los valores de las columnas categóricas a minúsculas y sin espacios\n",
    "  df[col] = df[col].apply(lambda x: x.replace(\" \",\"_\").lower() if isinstance(x, str) else x)"
   ]
  },
  {
   "cell_type": "code",
   "execution_count": 7,
   "metadata": {},
   "outputs": [],
   "source": [
    "# Validación de datos\n",
    "df['churn_label_binario'] = df['churn_label'].map({'Yes': 1, 'No':0}) \n",
    "df['churn_label_binario'].equals(df['churned']) # Comprobar que 'churn_label' y 'churn' son la misma columna pero con el tipo de dato distinto, por lo que eliminaremos 'churned'.\n",
    "# Comprobar que la columna 'under_30' y 'senior' se corresponden con la columna 'edad'\n",
    "validacion_under_30 = df[(df['under_30'] == 'yes') & (df['age'] >= 30)]\n",
    "errores_under_30_count = validacion_under_30.shape[0]\n",
    "validacion_senior = df[(df['senior']=='yes') & (df['age'] < 65)]\n",
    "errores_validacion_senior = validacion_senior.shape[0]"
   ]
  },
  {
   "cell_type": "code",
   "execution_count": 8,
   "metadata": {},
   "outputs": [],
   "source": [
    "# Eliminar columnas irrelevantes para el objetivo del análisis\n",
    "columnas_eliminar = ['churned', 'phone_number','hobby','favorite_tv_show', 'internal_notes','churn_label_binario']\n",
    "df.drop(columns= columnas_eliminar, inplace=True)"
   ]
  },
  {
   "cell_type": "code",
   "execution_count": 9,
   "metadata": {},
   "outputs": [],
   "source": [
    "# Limpieza de datos\n",
    "df['contract_type'] = df['contract_type'].str.strip('_').str.replace(\"-\",\"_\", regex=True) # Eliminar espacios y guiones sobrantes de la columna 'contrat_type'\n",
    "\n",
    "df['monthly_charge'] = df['monthly_charge'].apply(lambda x: float(x.replace(\"_usd\",\"\")) if isinstance(x,str) else x) # Eliminar carácteres sobrantes de 'monthly_charge'\n",
    "\n",
    "df['unlimited_data_plan'] = df['unlimited_data_plan'].map({1:'yes', 0:'no'}) # Mapear los valores '1' y '0' por 'yes' y 'no' de 'unlimited_data_plan'\n",
    "\n",
    "df['gender'] = df['gender'].replace('hombre', 'male') # Cambiar los valores 'hombres' por 'male'\n",
    "\n",
    "df['preferred_contact_method'] = df['preferred_contact_method'].replace('teléfono', 'phone') # Traducción de valores\n",
    "\n",
    "df['customer_segment'] = df['customer_segment'].replace({'alto':'high','medio':'medium','bajo':'low'}) # Traducción de valores\n",
    "\n",
    "df['applied_discount'] = df['applied_discount'].map({True:'yes', False:'no'}) # Reemplazar 'true' y 'false' por 'yes' y 'no'\n",
    "\n",
    "df['contact_date'] = df['contact_date'].astype(str).str.replace(\"-\",\"/\") # Normalización de la fecha de contacto\n",
    "\n",
    "df['average_monthly_expenses'] = df['average_monthly_expenses'].apply(lambda x: round(x, 2)) # Redondeo de valores en 'average_monthly_expenses'\n",
    "\n",
    "df = df.rename(columns={'senior':'senior_65'}) # Cambiar el nombe de la columna 'senior' para indicar que se refieren a 65 o más"
   ]
  },
  {
   "cell_type": "code",
   "execution_count": 15,
   "metadata": {},
   "outputs": [],
   "source": [
    "df.to_excel(\"../data/datos_churn_limpios.xlsx\", index=False)"
   ]
  },
  {
   "cell_type": "code",
   "execution_count": null,
   "metadata": {},
   "outputs": [],
   "source": [
    "# Proxima sesion gestion de nulos y asignacion del tipo de dato, y eliminar duplicados si hay"
   ]
  }
 ],
 "metadata": {
  "kernelspec": {
   "display_name": "Python 3",
   "language": "python",
   "name": "python3"
  },
  "language_info": {
   "codemirror_mode": {
    "name": "ipython",
    "version": 3
   },
   "file_extension": ".py",
   "mimetype": "text/x-python",
   "name": "python",
   "nbconvert_exporter": "python",
   "pygments_lexer": "ipython3",
   "version": "3.12.2"
  }
 },
 "nbformat": 4,
 "nbformat_minor": 2
}
