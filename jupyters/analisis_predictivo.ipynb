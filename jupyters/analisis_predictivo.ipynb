{
 "cells": [
  {
   "cell_type": "markdown",
   "metadata": {},
   "source": [
    "# Predicción con modelo de regresión logística"
   ]
  },
  {
   "cell_type": "code",
   "execution_count": 27,
   "metadata": {},
   "outputs": [],
   "source": [
    "import pandas as pd\n",
    "import numpy as np\n",
    "import matplotlib.pyplot as plt\n",
    "import seaborn as sns\n",
    "from sklearn.model_selection import train_test_split\n",
    "from sklearn.preprocessing import StandardScaler, OneHotEncoder\n",
    "from sklearn.linear_model import LogisticRegression\n",
    "from sklearn.metrics import accuracy_score, precision_score, recall_score, f1_score, confusion_matrix, classification_report"
   ]
  },
  {
   "cell_type": "code",
   "execution_count": 28,
   "metadata": {},
   "outputs": [],
   "source": [
    "df = pd.read_excel(\"../data/datos_churn_limpios.xlsx\")"
   ]
  },
  {
   "cell_type": "markdown",
   "metadata": {},
   "source": [
    "## Paso 1: Preparación de los datos"
   ]
  },
  {
   "cell_type": "code",
   "execution_count": 29,
   "metadata": {},
   "outputs": [],
   "source": [
    "# Eliminar columnas irrelevantes\n",
    "cols_eliminar = [\"customer_id\", \"state\", \"contact_date\", \"last_transaction_date\", \"churn_category\", \"churn_reason\"]\n",
    "df = df.drop(columns=cols_eliminar, errors='ignore')"
   ]
  },
  {
   "cell_type": "code",
   "execution_count": 30,
   "metadata": {},
   "outputs": [],
   "source": [
    "# Convertir churn_label a valores binarios (0 = No Churn, 1 = Churn)\n",
    "df[\"churn_label\"] = df[\"churn_label\"].map({\"no\": 0, \"yes\": 1})"
   ]
  },
  {
   "cell_type": "code",
   "execution_count": 31,
   "metadata": {},
   "outputs": [],
   "source": [
    "# Separar variables categóricas y numéricas\n",
    "col_cat = df.select_dtypes(include=['object']).columns.tolist()\n",
    "col_num = df.select_dtypes(include=['int64', 'float64']).columns.tolist()\n",
    "col_num.remove(\"churn_label\")  # Excluir la variable objetivo"
   ]
  },
  {
   "cell_type": "code",
   "execution_count": 32,
   "metadata": {},
   "outputs": [],
   "source": [
    "# Aplicar One-Hot Encoding a las variables categóricas. (Convierte variables categóricas en numéricas para que el modelo las entienda)\n",
    "df = pd.get_dummies(df, columns=col_cat, drop_first=True)"
   ]
  },
  {
   "cell_type": "code",
   "execution_count": 33,
   "metadata": {},
   "outputs": [],
   "source": [
    "# Escalar las variables numéricas. (Escala todas las variables numéricas para mejorar el rendimiento del modelo).\n",
    "scaler = StandardScaler()\n",
    "df[col_num] = scaler.fit_transform(df[col_num])"
   ]
  },
  {
   "cell_type": "code",
   "execution_count": 34,
   "metadata": {},
   "outputs": [],
   "source": [
    "# Separar features (variables predictoras, X) y target (variable objetivo, Y)\n",
    "X = df.drop(columns=[\"churn_label\"])\n",
    "y = df[\"churn_label\"]"
   ]
  },
  {
   "cell_type": "code",
   "execution_count": 35,
   "metadata": {},
   "outputs": [],
   "source": [
    "# Dividir los datos en entrenamiento (80%) y prueba (20%)\n",
    "X_train, X_test, y_train, y_test = train_test_split(X, y, test_size=0.2,  # 20% para prueba, 80% para entrenamiento\n",
    "                                                    random_state=42, # Fijar la semilla para reproducibilidad\n",
    "                                                    stratify=y) # Mantener la proporción original de clases\n",
    "# Si usamos todos los datos para entrenar y luego evaluamos en los mismos datos, no sabremos si el modelo realmente funciona en casos nuevos."
   ]
  },
  {
   "cell_type": "code",
   "execution_count": 36,
   "metadata": {},
   "outputs": [
    {
     "data": {
      "text/plain": [
       "((5352, 31), (1338, 31), (5352,), (1338,))"
      ]
     },
     "execution_count": 36,
     "metadata": {},
     "output_type": "execute_result"
    }
   ],
   "source": [
    "# Verificar la forma de los conjuntos de datos\n",
    "X_train.shape, X_test.shape, y_train.shape, y_test.shape"
   ]
  },
  {
   "cell_type": "markdown",
   "metadata": {},
   "source": [
    "## Paso 2: Entrenar el modelo de Regresión Logística"
   ]
  },
  {
   "cell_type": "code",
   "execution_count": null,
   "metadata": {},
   "outputs": [],
   "source": [
    "# Inicializar y entrenar el modelo de Regresión Logística\n",
    "log_model = LogisticRegression(random_state=42, max_iter=1000)\n",
    "log_model.fit(X_train, y_train)"
   ]
  },
  {
   "cell_type": "code",
   "execution_count": 38,
   "metadata": {},
   "outputs": [],
   "source": [
    "# Hacer predicciones en el conjunto de prueba\n",
    "y_pred = log_model.predict(X_test)"
   ]
  },
  {
   "cell_type": "code",
   "execution_count": 39,
   "metadata": {},
   "outputs": [],
   "source": [
    "# Evaluar el modelo\n",
    "accuracy = accuracy_score(y_test, y_pred)\n",
    "precision = precision_score(y_test, y_pred)\n",
    "recall = recall_score(y_test, y_pred)\n",
    "f1 = f1_score(y_test, y_pred)"
   ]
  },
  {
   "cell_type": "code",
   "execution_count": 40,
   "metadata": {},
   "outputs": [],
   "source": [
    "# Matriz de confusión\n",
    "conf_matrix = confusion_matrix(y_test, y_pred)"
   ]
  },
  {
   "cell_type": "code",
   "execution_count": null,
   "metadata": {},
   "outputs": [],
   "source": [
    "# Visualizar la matriz de confusión\n",
    "plt.figure(figsize=(5, 4))\n",
    "sns.heatmap(conf_matrix, annot=True, fmt=\"d\", cmap=\"Blues\", xticklabels=[\"No Churn\", \"Churn\"], yticklabels=[\"No Churn\", \"Churn\"])\n",
    "plt.xlabel(\"Predicción\")\n",
    "plt.ylabel(\"Valor Real\")\n",
    "plt.title(\"Matriz de Confusión - Regresión Logística\")\n",
    "plt.show()"
   ]
  },
  {
   "cell_type": "code",
   "execution_count": null,
   "metadata": {},
   "outputs": [],
   "source": [
    "# Reporte de clasificación\n",
    "classification_rep = classification_report(y_test, y_pred, output_dict=True)\n",
    "\n",
    "# Mostrar resultados\n",
    "accuracy, precision, recall, f1, classification_rep"
   ]
  },
  {
   "cell_type": "markdown",
   "metadata": {},
   "source": [
    "### Variables más importantes en la predicción del abandono"
   ]
  },
  {
   "cell_type": "code",
   "execution_count": 43,
   "metadata": {},
   "outputs": [],
   "source": [
    "# Extraer coeficientes de la regresión logística\n",
    "feature_importance = pd.DataFrame({\"Feature\": X.columns, \"Importance\": np.abs(log_model.coef_[0])})"
   ]
  },
  {
   "cell_type": "code",
   "execution_count": 44,
   "metadata": {},
   "outputs": [],
   "source": [
    "# Ordenar por importancia\n",
    "feature_importance = feature_importance.sort_values(by=\"Importance\", ascending=False)"
   ]
  },
  {
   "cell_type": "code",
   "execution_count": null,
   "metadata": {},
   "outputs": [],
   "source": [
    "# Visualizar los 10 factores más importantes\n",
    "plt.figure(figsize=(10, 5))\n",
    "sns.barplot(x=\"Importance\", y=\"Feature\", data=feature_importance.head(10), palette=\"viridis\")\n",
    "plt.title(\"Top 10 Variables más Importantes en la Predicción del Churn\")\n",
    "plt.xlabel(\"Importancia Absoluta\")\n",
    "plt.ylabel(\"Variables\")\n",
    "plt.show()"
   ]
  },
  {
   "cell_type": "markdown",
   "metadata": {},
   "source": [
    "## Conclusiones del modelo predictivo"
   ]
  },
  {
   "cell_type": "markdown",
   "metadata": {},
   "source": [
    "El análisis de los coeficientes del modelo de Regresión Logística nos ha permitido **identificar las variables que más influyen en la predicción del abandono de clientes**. Estos hallazgos son **clave para entender qué factores determinan el abandono y cómo podemos actuar para reducirlo**.  \n",
    "\n",
    "### Tipo de contrato  \n",
    "- Los clientes con contratos de dos años tienen menor probabilidad de abandonar.  \n",
    "- Los clientes con contratos mensuales abandonan con mayor frecuencia.  \n",
    "- Esto confirma que cuanto más largo es el contrato, más difícil es que un cliente se vaya.  \n",
    "- **Acción recomendada:** Fomentar los contratos de largo plazo con incentivos como descuentos o beneficios exclusivos.  \n",
    "\n",
    "### Número de llamadas al servicio al cliente  \n",
    "- Cuantas más llamadas hace un cliente al soporte, mayor es la probabilidad de que abandone.  \n",
    "- Esto indica que los clientes con problemas no están obteniendo una solución efectiva y terminan cancelando el servicio.  \n",
    "- **Acción recomendada:** Mejorar la atención al cliente, asegurándose de resolver problemas en las primeras interacciones.  \n",
    "\n",
    "### Pertenecer a un grupo familiar  \n",
    "- Los clientes con un plan familiar tienen menor probabilidad de abandonar.  \n",
    "- Esto confirma que compartir la cuenta con otras personas genera un mayor compromiso con el servicio.  \n",
    "- **Acción recomendada:** Promocionar más los planes familiares con descuentos para fomentar la retención.  \n"
   ]
  }
 ],
 "metadata": {
  "kernelspec": {
   "display_name": "Python 3",
   "language": "python",
   "name": "python3"
  },
  "language_info": {
   "codemirror_mode": {
    "name": "ipython",
    "version": 3
   },
   "file_extension": ".py",
   "mimetype": "text/x-python",
   "name": "python",
   "nbconvert_exporter": "python",
   "pygments_lexer": "ipython3",
   "version": "3.12.2"
  }
 },
 "nbformat": 4,
 "nbformat_minor": 2
}
