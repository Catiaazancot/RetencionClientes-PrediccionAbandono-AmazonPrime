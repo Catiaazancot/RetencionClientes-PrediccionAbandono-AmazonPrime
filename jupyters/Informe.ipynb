{
 "cells": [
  {
   "cell_type": "markdown",
   "id": "0867fd0a",
   "metadata": {},
   "source": [
    "### Habilidades demostradas en este proyecto\n",
    "Conciencia del impacto en negocio: foco constante en la mejora de la eficiencia operativa y aumento de la retención de clientes\n",
    "\n",
    "Conocimiento profundo del negocio y enfoque estratégico: formulación de preguntas clave alineadas con los objetivos empresariales para transformar datos en decisiones\n",
    "\n",
    "Buenas prácticas en calidad, validación y gobernanza del dato: validación de consistencia, tratamiento de nulos y outliers, normalización y limpieza con enfoque en la integridad de la información\n",
    "\n",
    "Automatización con inteligencia artificial: uso de IA para documentar procesos, asistir en tareas repetitivas y generar código, lo que permite centrar el esfuerzo en el análisis de valor\n",
    "\n",
    "Mentalidad orientada a la optimización y al rendimiento: uso de funciones en python (optimización del tiempo), buenas prácticas en PowerBI y SQL (mejora del rendimiento).\n",
    "\n",
    "Análisis exploratorio de datos (EDA)\n",
    "\n",
    "Aplicación de un modelo de regresión logística en R con el objetivo de identificar los factores que más influyen en la pérdida de clientes, utilizando las librerías dplyr, broom, janitor y ggplot2. \n",
    "\n",
    "Diseño e implementación de una base de datos relacional en PostgreSQL\n",
    "\n",
    "Consultas SQL orientadas al negocio\n",
    "\n",
    "Visualización y storytelling con Power BI\n",
    "\n",
    "ETL básico y modelado de datos"
   ]
  },
  {
   "cell_type": "markdown",
   "id": "c1ed5d0f",
   "metadata": {},
   "source": [
    "de datos a acciones de negocio: tabla acciones de negocio"
   ]
  },
  {
   "cell_type": "markdown",
   "id": "01ce3dcd",
   "metadata": {},
   "source": [
    "Si se implementan las acciones de negocio propuestas Amazon Prime podría evitar la pérdida de más de 1.700 clientes y permitir a la empresa recuperar miles de euros en ingresos mensuales. "
   ]
  },
  {
   "cell_type": "markdown",
   "id": "5239f77c",
   "metadata": {},
   "source": [
    "## Historia del proyecto Amazon Prime: Detrás del abandono: lo que cuesta perder a un cliente\n",
    "\n",
    "\n",
    "### **Contexto**\n",
    "\n",
    "Amazon Prime es uno de los servicios de suscripción más utilizados a nivel mundial. Sin embargo, como en cualquier modelo basado en suscripción, la retención de clientes es un factor crítico para su rentabilidad y sostenibilidad. A medida que el mercado se vuelve más competitivo, entender por qué los clientes deciden cancelar su suscripción se ha vuelto más importante que nunca.\n",
    "\n",
    "### **¿Cuál era el verdadero problema?**\n",
    "\n",
    "Un análisis inicial de los datos reveló un problema alarmante: una parte significativa de los clientes de Amazon Prime está abandonando el servicio, especialmente durante los primeros meses de contratación. Además, existen ciertos patrones que se repiten en los clientes que se marchan, lo que sugiere que el abandono no es aleatorio, sino que responde a causas específicas que pueden ser abordadas.\n",
    "\n",
    "### **¿Dónde estaba el origen del problema?**\n",
    "\n",
    "Mediante el análisis exploratorio, visualizaciones interactivas y un modelo de regresión logística realizado en R, se detectaron los factores con mayor influencia en el abandono:\n",
    "\n",
    "* Los **clientes con contrato mensual** tienen una tasa de abandono mucho mayor que aquellos con contratos de mayor duración.\n",
    "* A partir de la **tercera llamada al servicio de atención al cliente**, el abandono es casi inevitable.\n",
    "* Los **clientes sin plan familiar** presentan mayor propensión a cancelar el servicio.\n",
    "* Los **descuentos aplicados** no están funcionando para reducir el abandono.\n",
    "\n",
    "\n",
    "### **Soluciones propuestas**\n",
    "\n",
    "Basado en los datos y en los patrones detectados, se propusieron acciones específicas orientadas a reducir el abandono como, entre otras:\n",
    "\n",
    "1. **Fomentar contratos de largo plazo**, con beneficios como descuentos o servicios exclusivos.\n",
    "2. **Mejorar la eficiencia del soporte**, resolviendo los problemas en las primeras llamadas.\n",
    "3. **Incentivar planes familiares**, que han demostrado una tasa de retención mucho mayor.\n",
    "4. **Rediseñar la estrategia de descuentos**, redirigiendo el esfuerzo a acciones que generen verdadero compromiso.\n",
    "5. **Reforzar la experiencia inicial del cliente**, con onboarding personalizado, tutoriales y seguimiento proactivo.\n",
    "\n",
    "La acción más recomendable es reforzar la experiencia inicial del cliente con un onboarding proactivo. Esto significa acompañar al usuario desde el primer día, anticipándose a sus dudas y guiándole para que entienda el valor del servicio desde el inicio. Los datos muestran que la mayoría de cancelaciones ocurren en los primeros tres meses, por lo que actuar en esa fase es clave para reducir el abandono.\n",
    "\n",
    "Dentro del onboarding, una de las acciones más efectivas es invitar a activar el plan familiar, ya que los clientes que lo utilizan presentan una tasa de abandono muy baja. Por ello, se considera también la segunda acción más recomendada.\n",
    "\n",
    "\n",
    "\n",
    "### **Consecuencias de no actuar**\n",
    "\n",
    "Si no se aplican estas soluciones, el servicio seguirá perdiendo cientos de clientes al mes, lo que implica pérdidas considerables en ingresos recurrentes y un impacto negativo en la imagen de marca. El modelo predictivo mostró que solo en tres segmentos críticos (contrato mensual, sin plan familiar y 3+ llamadas al soporte) se podrían estar perdiendo más de **1.700 clientes al año** que serían recuperables con las acciones adecuadas.\n",
    "\n",
    "\n",
    " ### **Beneficios de implementar las soluciones**\n",
    "\n",
    "* **+1.700 clientes retenidos** con acciones dirigidas\n",
    "* **Más de 65.000 € al mes en ingresos recuperables**, según el valor medio mensual por cliente\n",
    "* Mejor experiencia del cliente, mayor fidelidad y valor de vida del usuario\n",
    "* Uso más eficiente de recursos de soporte y marketing\n",
    "* Imagen de marca reforzada gracias a la personalización y la atención a las necesidades reales del usuario\n",
    "\n",
    "\n",
    "### **Conclusión**\n",
    "\n",
    "Este proyecto demuestra que, con los datos adecuados y un análisis enfocado, es posible convertir patrones invisibles en acciones concretas de negocio. \n",
    "El análisis de datos no solo ha permitido identificar los factores de abandono, sino también proyectar el impacto de actuar sobre ellos. \n",
    "\n",
    "Implementar estas soluciones es una decisión estratégica con beneficios medibles y sostenibles a corto y largo plazo.\n"
   ]
  }
 ],
 "metadata": {
  "language_info": {
   "name": "python"
  }
 },
 "nbformat": 4,
 "nbformat_minor": 5
}
