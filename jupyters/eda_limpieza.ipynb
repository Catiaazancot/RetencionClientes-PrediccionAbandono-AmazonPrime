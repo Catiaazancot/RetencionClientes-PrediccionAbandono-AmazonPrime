{
 "cells": [
  {
   "cell_type": "markdown",
   "metadata": {},
   "source": [
    "# Análisis preliminar del conjunto de datos"
   ]
  },
  {
   "cell_type": "code",
   "execution_count": null,
   "metadata": {},
   "outputs": [],
   "source": [
    "# Importaciones de paquetes\n",
    "import pandas as pd\n",
    "pd.set_option('display.max_columns', None)\n",
    "pd.set_option('display.float_format', lambda x : '%.4f' % x)\n",
    "import numpy as np\n",
    "# Importaciones de unidades de soporte\n",
    "import sys\n",
    "sys.path.append(\"..\")\n",
    "from src import sp_funciones as sp"
   ]
  },
  {
   "cell_type": "code",
   "execution_count": null,
   "metadata": {},
   "outputs": [],
   "source": [
    "df_raw = pd.read_excel(\"../data/amazon_churn_datosbrutos.xlsx\") # Leer el archivo"
   ]
  },
  {
   "cell_type": "code",
   "execution_count": null,
   "metadata": {},
   "outputs": [],
   "source": [
    "df = df_raw.copy() # Hacer una copia del dataframe con el que trabajar"
   ]
  },
  {
   "cell_type": "markdown",
   "metadata": {},
   "source": [
    "## Análisis exploratorio preliminar"
   ]
  },
  {
   "cell_type": "code",
   "execution_count": null,
   "metadata": {},
   "outputs": [],
   "source": [
    "sp.eda_preliminar(df) # LLamar a la función para el análisis exploratorio de los datos "
   ]
  },
  {
   "cell_type": "markdown",
   "metadata": {},
   "source": [
    "## Estandarización de datos"
   ]
  },
  {
   "cell_type": "code",
   "execution_count": 6,
   "metadata": {},
   "outputs": [],
   "source": [
    "df.columns = df.columns.str.replace(\" \",\"_\").str.lower() # Pasar los nombres de las columnas a minúsculas y sin espacios\n",
    "for col in df.select_dtypes(include='O').columns: # Pasar los nombres de los valores de las columnas categóricas a minúsculas y sin espacios\n",
    "  df[col] = df[col].apply(lambda x: x.replace(\" \",\"_\").lower() if isinstance(x, str) else x)"
   ]
  },
  {
   "cell_type": "markdown",
   "metadata": {},
   "source": [
    "## Limpieza de datos"
   ]
  },
  {
   "cell_type": "code",
   "execution_count": null,
   "metadata": {},
   "outputs": [],
   "source": [
    "# Eliminar columnas irrelevantes para el objetivo del análisis\n",
    "columnas_eliminar = ['churned', 'phone_number','hobby','favorite_tv_show', 'internal_notes','churn_label_binario']\n",
    "df.drop(columns= columnas_eliminar, inplace=True)"
   ]
  },
  {
   "cell_type": "code",
   "execution_count": null,
   "metadata": {},
   "outputs": [],
   "source": [
    "df['contract_type'] = df['contract_type'].str.strip('_').str.replace(\"-\",\"_\", regex=True) # Eliminar espacios y guiones sobrantes de la columna 'contrat_type'\n",
    "\n",
    "df['monthly_charge'] = df['monthly_charge'].apply(lambda x: float(x.replace(\"_usd\",\"\")) if isinstance(x,str) else x) # Eliminar carácteres sobrantes de 'monthly_charge'\n",
    "\n",
    "df['unlimited_data_plan'] = df['unlimited_data_plan'].map({1:'yes', 0:'no'}) # Mapear los valores '1' y '0' por 'yes' y 'no' de 'unlimited_data_plan'\n",
    "\n",
    "df['gender'] = df['gender'].replace('hombre', 'male') # Cambiar los valores 'hombres' por 'male'\n",
    "\n",
    "df['preferred_contact_method'] = df['preferred_contact_method'].replace('teléfono', 'phone') # Traducción de valores\n",
    "\n",
    "df['customer_segment'] = df['customer_segment'].replace({'alto':'high','medio':'medium','bajo':'low'}) # Traducción de valores\n",
    "\n",
    "df['applied_discount'] = df['applied_discount'].map({True:'yes', False:'no'}) # Reemplazar 'true' y 'false' por 'yes' y 'no'\n",
    "\n",
    "df['contact_date'] = df['contact_date'].astype(str).str.replace(\"-\",\"/\") # Normalización de la fecha de contacto\n",
    "\n",
    "df['average_monthly_expenses'] = df['average_monthly_expenses'].apply(lambda x: round(x, 2)) # Redondeo de valores en 'average_monthly_expenses'\n",
    "\n",
    "df = df.rename(columns={'senior':'senior_65'}) # Cambiar el nombe de la columna 'senior' para indicar que se refieren a 65 o más"
   ]
  },
  {
   "cell_type": "markdown",
   "metadata": {},
   "source": [
    "## Validación de datos"
   ]
  },
  {
   "cell_type": "code",
   "execution_count": null,
   "metadata": {},
   "outputs": [],
   "source": [
    "df['churn_label_binario'] = df['churn_label'].map({'Yes': 1, 'No':0}) \n",
    "df['churn_label_binario'].equals(df['churned']) # Comprobar que 'churn_label' y 'churn' son la misma columna pero con el tipo de dato distinto, en ese caso eliminar 'churned'.\n",
    "\n",
    "# Comprobar que la columna 'under_30' y 'senior' están bien establecidas de acuerdo a la columna 'edad'\n",
    "validacion_under_30 = df[(df['under_30'] == 'yes') & (df['age'] >= 30)]\n",
    "errores_under_30_count = validacion_under_30.shape[0]\n",
    "validacion_senior = df[(df['senior']=='yes') & (df['age'] < 65)]\n",
    "errores_validacion_senior = validacion_senior.shape[0]\n",
    "\n",
    "# Validar que en ningún caso 'total charges' sea menor que 'monthly charge'\n",
    "invalid_charges = df[df[\"total_charges\"] < df[\"monthly_charge\"]]\n",
    "invalid_charges.shape[0]"
   ]
  },
  {
   "cell_type": "code",
   "execution_count": null,
   "metadata": {},
   "outputs": [],
   "source": [
    "df.to_excel(\"../data/datos_churn_limpios.xlsx\", index=False) # Guardar cambios"
   ]
  },
  {
   "cell_type": "markdown",
   "metadata": {},
   "source": [
    "# Gestión de nulos "
   ]
  },
  {
   "cell_type": "code",
   "execution_count": null,
   "metadata": {},
   "outputs": [],
   "source": [
    "df_limpio = pd.read_excel(\"../data/datos_churn_limpios.xlsx\") # Leer el archivo"
   ]
  },
  {
   "cell_type": "markdown",
   "metadata": {},
   "source": [
    "### Análisis general columnas categóricas"
   ]
  },
  {
   "cell_type": "code",
   "execution_count": null,
   "metadata": {},
   "outputs": [],
   "source": [
    "sp.calcular_nulos(df_limpio) # Observación general de nulos\n",
    "sp.analisis_general_cat(df_limpio) # Análisis general de las columnas categóricas\n",
    "sp.subplot_col_cat(df_limpio) # Graficar columnas categoricas"
   ]
  },
  {
   "cell_type": "markdown",
   "metadata": {},
   "source": [
    "### Gestión de nulos de las columnas categóricas"
   ]
  },
  {
   "cell_type": "code",
   "execution_count": null,
   "metadata": {},
   "outputs": [],
   "source": [
    "# Crear un dataframe solo con las columnas categóricas\n",
    "df_cat = df_limpio[df_limpio.select_dtypes(include='O').columns]\n",
    "# Observar los nulos de las columnas categóricas\n",
    "sp.calcular_nulos(df_cat)"
   ]
  },
  {
   "cell_type": "markdown",
   "metadata": {},
   "source": [
    "Identificamos tres columnas categóricas con valores nulos: payment_method, churn_category, churn_reason"
   ]
  },
  {
   "cell_type": "code",
   "execution_count": null,
   "metadata": {},
   "outputs": [],
   "source": [
    "# Comprobar si alguna de estas columnas tiene un valor predominante, por si lo usamos para rellenar los nulos\n",
    "sp.analisis_general_cat(df_cat)"
   ]
  },
  {
   "cell_type": "markdown",
   "metadata": {},
   "source": [
    "En el caso de 'churn_category' y 'churn_reason', aproximadamente el **74% de los valores están vacíos**. Dado que este porcentaje es muy alto, no tiene sentido rellenarlos con otra categoría, ya que podríamos introducir sesgos o información incorrecta.  \n",
    "\n",
    "Por otro lado, 'payment_method' tiene pocos valores nulos, pero no existe un método de pago predominante que podamos usar para rellenarlos sin afectar la integridad de los datos.  \n",
    "\n",
    "Por esta razón, hemos decidido reemplazar los valores nulos en estas columnas con 'unknown', para mantener la consistencia sin distorsionar la información existente.  "
   ]
  },
  {
   "cell_type": "code",
   "execution_count": null,
   "metadata": {},
   "outputs": [],
   "source": [
    "# Reemplazar valores nulos en columnas categóricas con \"unknown\"\n",
    "df_cat = df_cat.fillna('unknown')\n",
    "df_limpio[df_limpio.select_dtypes(include='O').columns] = df_cat\n",
    "# Verificar si quedan nulos en columnas categóricas después del reemplazo\n",
    "sp.calcular_nulos(df_limpio)"
   ]
  },
  {
   "cell_type": "markdown",
   "metadata": {},
   "source": [
    "# Gestión de nulos de las columnas numéricas"
   ]
  },
  {
   "cell_type": "code",
   "execution_count": null,
   "metadata": {},
   "outputs": [],
   "source": [
    "# Crear un dataframe solo con las columnas numericas\n",
    "df_num = df.select_dtypes(include= np.number).columns.to_list()"
   ]
  },
  {
   "cell_type": "markdown",
   "metadata": {},
   "source": [
    "## Gestión de valores atípicos\n",
    "Antes de gestionar los valores nulos, trabajaremos los valores atípicos, ya que  pueden distorsionar la media y la mediana, afectando la correcta imputación de los valores nulos."
   ]
  },
  {
   "cell_type": "code",
   "execution_count": null,
   "metadata": {},
   "outputs": [],
   "source": [
    " # Observar las medidas estadísticas\n",
    "df[df_num].describe().T\n",
    "# Comprobar la presencia de valores atípicos comparando los histogramas con los diagramas de cajas de cada columna\n",
    "sp.subplot_col_num(df, df_num)\n",
    "# Detectar valores atípicos en cinco columnas. Calcular su porcentaje en cada columna para decidir que hacer con ellos.\n",
    "dicc_outliers = {'avg_monthly_gb_download':23,\n",
    "                 'extra_data_charges':1,\n",
    "                 'total_charges':4000 ,\n",
    "                 'average_monthly_expenses':80} \n",
    "for col, out in dicc_outliers.items():\n",
    "  outliers = df[col][df[col] > out].count()\n",
    "  print(f'Para la columna {col.upper()} tenemos {outliers}, lo que representa un {round(outliers/df.shape[0] *100,3)}% de los datos')"
   ]
  },
  {
   "cell_type": "markdown",
   "metadata": {},
   "source": [
    "Aunque algunas variables presentan valores atípicos, su porcentaje es bajo y tienen sentido en el contexto del análisis. Modificarlos podría eliminar información valiosa sobre clientes con patrones de consumo específicos, por lo que decidimos dejarlos tal cual."
   ]
  },
  {
   "cell_type": "markdown",
   "metadata": {},
   "source": [
    "## Gestión de nulos"
   ]
  },
  {
   "cell_type": "code",
   "execution_count": null,
   "metadata": {},
   "outputs": [],
   "source": [
    "# Observar columnas con nulos y su porcentaje\n",
    "col_con_nulos = df.columns[df.isnull().any()]\n",
    "columnas_nulos_info = pd.DataFrame({\n",
    "        \"columna\": col_con_nulos,\n",
    "        \"NumeroNulos\": [df[col].isnull().sum() for col in col_con_nulos],\n",
    "        \"PorentajeNulos\": [(df[col].isnull().sum()/df.shape[0])*100 for col in col_con_nulos]})\n",
    "display(columnas_nulos_info)"
   ]
  },
  {
   "cell_type": "markdown",
   "metadata": {},
   "source": [
    "'total_charges' tenía un porcentaje muy pequeño de valores nulos (0.2%). Por un lado, rellenamos con 0 para los clientes que tienen 'tenure = 0', porque aún no han acumulado cargos. Para los demás casos, usamos la mediana en lugar del promedio, ya que nos ayuda a evitar que se distorsionen los datos."
   ]
  },
  {
   "cell_type": "code",
   "execution_count": null,
   "metadata": {},
   "outputs": [],
   "source": [
    "# Imputar nulos en 'total_charges'\n",
    "df.loc[df['customer_tenure_(in_months)']==0, 'total_charges'] = 0 # Imputar 'total_charges' con 0 para clientes con 'tenure = 0'\n",
    "median_total_charges = df['total_charges'].median() \n",
    "df['total_charges'].fillna(median_total_charges, inplace=True) # Imputar los valores nulos restantes con la mediana"
   ]
  },
  {
   "cell_type": "markdown",
   "metadata": {},
   "source": [
    "'monthly_charge' tenía un porcentaje muy pequeño de valores nulos (0.2%), por lo que se rellenaron con la mediana, ya que no tenía una relación significativa con otras variables. Esto garantiza la coherencia en los datos sin introducir sesgos ni afectar significativamente el análisis."
   ]
  },
  {
   "cell_type": "code",
   "execution_count": null,
   "metadata": {},
   "outputs": [],
   "source": [
    "# Imputar nulos en 'monthly_charge' con la mediana\n",
    "median_monthly_charge = df['monthly_charge'].median()\n",
    "df['monthly_charge'].fillna(median_monthly_charge, inplace=True)"
   ]
  },
  {
   "cell_type": "code",
   "execution_count": null,
   "metadata": {},
   "outputs": [],
   "source": [
    "df.isnull().sum() # Comprobar que no hay nulos en ninguna columna"
   ]
  },
  {
   "cell_type": "code",
   "execution_count": null,
   "metadata": {},
   "outputs": [],
   "source": [
    "df.to_excel(\"../data/datos_churn_limpios.xlsx\", index=False) # Guardar cambios"
   ]
  }
 ],
 "metadata": {
  "kernelspec": {
   "display_name": "Python 3",
   "language": "python",
   "name": "python3"
  },
  "language_info": {
   "codemirror_mode": {
    "name": "ipython",
    "version": 3
   },
   "file_extension": ".py",
   "mimetype": "text/x-python",
   "name": "python",
   "nbconvert_exporter": "python",
   "pygments_lexer": "ipython3",
   "version": "3.12.2"
  }
 },
 "nbformat": 4,
 "nbformat_minor": 2
}
