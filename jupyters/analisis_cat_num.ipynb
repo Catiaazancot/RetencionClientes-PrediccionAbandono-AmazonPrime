{
 "cells": [
  {
   "cell_type": "markdown",
   "metadata": {},
   "source": [
    "# Análisis columnas categóricas y temporales"
   ]
  },
  {
   "cell_type": "code",
   "execution_count": null,
   "metadata": {},
   "outputs": [],
   "source": [
    "\n",
    "# Importaciones de paquetes\n",
    "import pandas as pd \n",
    "import numpy as np\n",
    "import matplotlib.pyplot as plt \n",
    "import seaborn as sns\n",
    "# Importaciones de unidades de soporte\n",
    "import sys\n",
    "sys.path.append(\"..\")\n",
    "from src import sp_funciones as sp"
   ]
  },
  {
   "cell_type": "code",
   "execution_count": null,
   "metadata": {},
   "outputs": [],
   "source": [
    "df = pd.read_excel(\"../data/datos_churn_limpios.xlsx\") # Leer el archivo"
   ]
  },
  {
   "cell_type": "code",
   "execution_count": null,
   "metadata": {},
   "outputs": [],
   "source": [
    "df['contact_date'] = pd.to_datetime(df['contact_date'])  # Convertir 'contact_date' a tipo fecha"
   ]
  },
  {
   "cell_type": "code",
   "execution_count": null,
   "metadata": {},
   "outputs": [],
   "source": [
    "df = df.drop_duplicates() # Eliminar filas duplicadas restantes"
   ]
  },
  {
   "cell_type": "markdown",
   "metadata": {},
   "source": [
    "## Análisis columnas categóricas\n",
    "Teniendo en cuenta el objetivo del análisis (analizar el abandono), relacionaremos la métrica principal ('churn_label') con el resto de columnas categóricas."
   ]
  },
  {
   "cell_type": "code",
   "execution_count": null,
   "metadata": {},
   "outputs": [],
   "source": [
    "col_excluidas = [\"churn_label\", \"customer_id\", \"state\", \"contact_date\", \"last_transaction_date\"] # Excluir columnas que no necesitemos por el momento\n",
    "col_cat = [col for col in df.select_dtypes(include='O').columns if col not in col_excluidas]\n",
    "sp.analisis_categoricas(df, col_cat) # Graficar el análisis de las columnas categóricas por churn_label"
   ]
  },
  {
   "cell_type": "markdown",
   "metadata": {},
   "source": [
    "## Análisis columnas temporales"
   ]
  },
  {
   "cell_type": "code",
   "execution_count": null,
   "metadata": {},
   "outputs": [],
   "source": [
    "# Generar nuevas columnas de fecha\n",
    "df['year'] = df['contact_date'].dt.year\n",
    "df['month'] = df['contact_date'].dt.month\n",
    "df['quarter'] = df['contact_date'].dt.quarter\n",
    "# Validar que han sido creadas correctamente\n",
    "df[['contact_date', 'year', 'month','quarter']].head()"
   ]
  },
  {
   "cell_type": "code",
   "execution_count": null,
   "metadata": {},
   "outputs": [],
   "source": [
    "sp.plot_churn_tendencia(df, unidad_tiempo='year') # Graficar el análisis de la tasa de abandono por unidad de tiempo"
   ]
  },
  {
   "cell_type": "markdown",
   "metadata": {},
   "source": [
    "## Conclusiones del análisis de variables categóricas y temporales  \n",
    "\n",
    "Hemos explorado en profundidad las **columnas categóricas y temporales**, extrayendo los **insights más relevantes** para comprender los factores que influyen en la tasa de abandono. Con estos análisis, identificamos patrones clave que pueden ayudar a **anticipar y reducir el abandono**, alineándonos con el objetivo del estudio.  \n",
    "\n",
    "\n",
    "### Plan de datos ilimitado:  \n",
    "Los clientes con o sin plan de datos ilimitado muestran tasas de abandono elevadas, lo que sugiere que el servicio no está cumpliendo con sus expectativas. Esto podría indicar que el plan no es percibido como un beneficio real o que los clientes encuentran opciones más atractivas en la competencia.  \n",
    "\n",
    "### Descuento aplicado:  \n",
    "El hecho de que un cliente haya recibido un descuento no parece ser un factor clave para reducir el abandono. **Posible impacto:** Se podría estar perdiendo dinero en descuentos que no influyen en la fidelización del cliente. Es recomendable evaluar su efectividad o redirigir estas estrategias hacia otras iniciativas que generen mayor compromiso con el servicio\n",
    "\n",
    "### Plan familiar:  \n",
    "Los clientes con planes familiares tienen una tasa de abandono menor en comparación con los clientes individuales. Esto puede deberse a que los planes familiares fomentan un mayor compromiso y ofrecen mejor relación calidad-precio.  **Recomendación:** Potenciar las cuentas conjuntas con incentivos adicionales para aumentar la retención.  \n",
    "\n",
    "### Menores de 30 años:  \n",
    "Los clientes menores de 30 años tienen una mayor fidelidad con el servicio. Esto puede deberse a que la plataforma ofrece contenido o beneficios más atractivos para un público joven, o a que se sienten más cómodos utilizando la tecnología.  \n",
    "\n",
    "### Clientes mayores de 65 años:  \n",
    "Los clientes mayores de 65 años abandonan el servicio con más frecuencia. Esto puede estar relacionado con problemas de accesibilidad, falta de contenido relevante o con el hecho de que realizan menos pedidos online, por lo que el servicio les resulta menos útil.  \n",
    "\n",
    "### Protección de dispositivos y respaldo en la nube:  \n",
    "Los clientes que pagan por protección de dispositivos y respaldo en la nube tienen menor abandono. Esto indica que los servicios adicionales pueden aumentar la lealtad del cliente, posiblemente porque incrementan la percepción de valor del servicio.  \n",
    "\n",
    "### Tipo de contrato:  \n",
    "Los clientes con contratos mensuales abandonan con más frecuencia que aquellos con contratos de mayor duración.  **Recomendación:** Potenciar la venta de contratos de larga duración, ofreciendo descuentos o beneficios adicionales para incentivar la permanencia.  \n",
    "\n",
    "### Método de pago:  \n",
    "Los clientes que pagan con tarjeta de débito tienen una mayor tasa de abandono en comparación con los que usan tarjeta de crédito o pagos automáticos. Esto puede deberse a que los pagos manuales requieren más esfuerzo por parte del usuario y pueden interrumpirse con mayor facilidad.  \n",
    "\n",
    "\n",
    "\n",
    "### Género, Segmento de Cliente, Método de Contacto Preferido:  \n",
    "No parecen ser factores determinantes en la retención o abandono del servicio.  "
   ]
  },
  {
   "cell_type": "markdown",
   "metadata": {},
   "source": [
    "# Análisis columnas numéricas"
   ]
  },
  {
   "cell_type": "code",
   "execution_count": 2,
   "metadata": {},
   "outputs": [],
   "source": [
    "df = pd.read_excel(\"../data/datos_churn_limpios.xlsx\") # Leer el archivo"
   ]
  },
  {
   "cell_type": "markdown",
   "metadata": {},
   "source": [
    "Teniendo en cuenta el objetivo del análisis (analizar el abandono), relacionaremos la métrica principal ('churn_label') con el resto de columnas numéricas"
   ]
  },
  {
   "cell_type": "code",
   "execution_count": null,
   "metadata": {},
   "outputs": [],
   "source": [
    "col_excluir = ['year', 'month', 'quarter']\n",
    "col_num = [col for col in df.select_dtypes(include=np.number).columns if col not in col_excluir]\n",
    "sp.analisis_numericas(df, col_num)"
   ]
  },
  {
   "cell_type": "markdown",
   "metadata": {},
   "source": [
    "## Conclusiones del análisis de variables numéricas\n",
    "\n",
    "Hemos analizado las variables numéricas en relación con la tasa de abandono para identificar patrones que nos ayuden a entender qué factores influyen en la retención o abandono de los clientes. A continuación, presentamos los insights clave extraídos del análisis.  \n",
    "\n",
    "### Duración de la cuenta:  \n",
    "Cuanto menor es el tiempo que un cliente ha estado en la plataforma, mayor es la probabilidad de abandono. Los clientes que llevan poco tiempo parecen menos comprometidos con el servicio.  \n",
    "\n",
    "### Llamadas al servicio al cliente:  \n",
    "A partir de la tercera llamada al soporte, más del 80% de los clientes terminan abandonando el servicio.\n",
    "\n",
    "### Número de quejas o contactos con soporte:  \n",
    "Inicialmente, se pensaba que esta variable podría influir en la tasa de abandono, pero los datos muestran que se distribuye de manera uniforme. No parece ser un indicador claro de abandono, más allá del caso específico de las múltiples llamadas al servicio de atención al cliente.  \n",
    "\n",
    "### Número de personas en el plan:  \n",
    "La mayoría de los clientes no tienen un plan familiar. Los clientes con planes familiares abandonan mucho menos, mientras que aquellos que tienen una cuenta individual presentan una mayor tasa de abandono.  \n",
    "\n",
    "### Edad:  \n",
    "La mayor parte de los clientes tienen entre 19 y 68 años. A partir de los 69 años, la tasa de abandono aumenta considerablemente, con más del 40% de los clientes mayores de 69 años cancelando el servicio.  \n",
    "\n",
    "### Cargo mensual:  \n",
    "A medida que aumenta el costo mensual del servicio, el abandono también aumenta. Sin embargo, a partir de los 60 dólares, la tasa de abandono disminuye, aunque esto podría deberse a que hay menos clientes en ese rango de precios.  \n",
    "\n",
    "### Promedio de GB descargados:  \n",
    "No se observa una relación clara entre la cantidad de datos descargados y la tasa de abandono. Parece que no es un factor determinante en la retención o abandono del servicio.  \n",
    "\n",
    "### Cargos adicionales por datos:  \n",
    "El 90% de los clientes no tiene cargos adicionales por datos, por lo que esta variable no aporta información significativa para analizar el abandono.  "
   ]
  },
  {
   "cell_type": "markdown",
   "metadata": {},
   "source": [
    "**Con estos insights, podemos definir estrategias más efectivas para reducir el churn y mejorar la fidelización de los clientes.**"
   ]
  }
 ],
 "metadata": {
  "kernelspec": {
   "display_name": "Python 3",
   "language": "python",
   "name": "python3"
  },
  "language_info": {
   "codemirror_mode": {
    "name": "ipython",
    "version": 3
   },
   "file_extension": ".py",
   "mimetype": "text/x-python",
   "name": "python",
   "nbconvert_exporter": "python",
   "pygments_lexer": "ipython3",
   "version": "3.12.2"
  }
 },
 "nbformat": 4,
 "nbformat_minor": 2
}
