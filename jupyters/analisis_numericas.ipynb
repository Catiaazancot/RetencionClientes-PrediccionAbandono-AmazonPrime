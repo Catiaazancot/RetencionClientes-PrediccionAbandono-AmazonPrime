{
 "cells": [
  {
   "cell_type": "markdown",
   "metadata": {},
   "source": [
    "# Análisis columnas numéricas"
   ]
  },
  {
   "cell_type": "code",
   "execution_count": null,
   "metadata": {},
   "outputs": [],
   "source": [
    "# Importaciones\n",
    "import pandas as pd\n",
    "import numpy as np\n",
    "import matplotlib.pyplot as plt \n",
    "import seaborn as sns\n",
    "# Importaciones de unidades de soporte\n",
    "import sys\n",
    "sys.path.append(\"..\")\n",
    "from src import sp_funciones as sp"
   ]
  },
  {
   "cell_type": "code",
   "execution_count": 2,
   "metadata": {},
   "outputs": [],
   "source": [
    "df = pd.read_excel(\"../data/datos_churn_limpios.xlsx\") # Leer el archivo"
   ]
  },
  {
   "cell_type": "markdown",
   "metadata": {},
   "source": [
    "Teniendo en cuenta el objetivo del análisis (analizar el abandono), relacionaremos la métrica principal ('churn_label') con el resto de columnas numéricas"
   ]
  },
  {
   "cell_type": "code",
   "execution_count": null,
   "metadata": {},
   "outputs": [],
   "source": [
    "col_excluir = ['year', 'month', 'quarter']\n",
    "col_num = [col for col in df.select_dtypes(include=np.number).columns if col not in col_excluir]\n",
    "sp.analisis_numericas(df, col_num)"
   ]
  },
  {
   "cell_type": "markdown",
   "metadata": {},
   "source": [
    "## Conclusiones del análisis de variables numéricas\n",
    "\n",
    "Hemos analizado las variables numéricas en relación con la tasa de abandono para identificar patrones que nos ayuden a entender qué factores influyen en la retención o abandono de los clientes. A continuación, presentamos los insights clave extraídos del análisis.  \n",
    "\n",
    "### Duración de la cuenta:  \n",
    "Cuanto menor es el tiempo que un cliente ha estado en la plataforma, mayor es la probabilidad de abandono. Los clientes que llevan poco tiempo parecen menos comprometidos con el servicio.  \n",
    "\n",
    "### Llamadas al servicio al cliente:  \n",
    "A partir de la tercera llamada al soporte, más del 80% de los clientes terminan abandonando el servicio.\n",
    "\n",
    "### Número de quejas o contactos con soporte:  \n",
    "Inicialmente, se pensaba que esta variable podría influir en la tasa de abandono, pero los datos muestran que se distribuye de manera uniforme. No parece ser un indicador claro de abandono, más allá del caso específico de las múltiples llamadas al servicio de atención al cliente.  \n",
    "\n",
    "### Número de personas en el plan:  \n",
    "La mayoría de los clientes no tienen un plan familiar. Los clientes con planes familiares abandonan mucho menos, mientras que aquellos que tienen una cuenta individual presentan una mayor tasa de abandono.  \n",
    "\n",
    "### Edad:  \n",
    "La mayor parte de los clientes tienen entre 19 y 68 años. A partir de los 69 años, la tasa de abandono aumenta considerablemente, con más del 40% de los clientes mayores de 69 años cancelando el servicio.  \n",
    "\n",
    "### Cargo mensual:  \n",
    "A medida que aumenta el costo mensual del servicio, el abandono también aumenta. Sin embargo, a partir de los 60 dólares, la tasa de abandono disminuye, aunque esto podría deberse a que hay menos clientes en ese rango de precios.  \n",
    "\n",
    "### Promedio de GB descargados:  \n",
    "No se observa una relación clara entre la cantidad de datos descargados y la tasa de abandono. Parece que no es un factor determinante en la retención o abandono del servicio.  \n",
    "\n",
    "### Cargos adicionales por datos:  \n",
    "El 90% de los clientes no tiene cargos adicionales por datos, por lo que esta variable no aporta información significativa para analizar el abandono.  "
   ]
  },
  {
   "cell_type": "markdown",
   "metadata": {},
   "source": [
    "**Con estos insights, podemos definir estrategias más efectivas para reducir el churn y mejorar la fidelización de los clientes.**"
   ]
  }
 ],
 "metadata": {
  "kernelspec": {
   "display_name": "Python 3",
   "language": "python",
   "name": "python3"
  },
  "language_info": {
   "codemirror_mode": {
    "name": "ipython",
    "version": 3
   },
   "file_extension": ".py",
   "mimetype": "text/x-python",
   "name": "python",
   "nbconvert_exporter": "python",
   "pygments_lexer": "ipython3",
   "version": "3.12.2"
  }
 },
 "nbformat": 4,
 "nbformat_minor": 2
}
